{
 "cells": [
  {
   "cell_type": "markdown",
   "metadata": {},
   "source": [
    "# Bike sharing classification"
   ]
  },
  {
   "cell_type": "markdown",
   "metadata": {},
   "source": [
    "### Regularized Linear Regression"
   ]
  },
  {
   "cell_type": "code",
   "execution_count": 1,
   "metadata": {},
   "outputs": [],
   "source": [
    "import numpy as np\n",
    "import pandas as pd"
   ]
  },
  {
   "cell_type": "code",
   "execution_count": 2,
   "metadata": {},
   "outputs": [],
   "source": [
    "bikes = pd.read_csv('bike_sharing.csv')"
   ]
  },
  {
   "cell_type": "markdown",
   "metadata": {},
   "source": [
    "As we will have several ways to organize our explanatory variables, to better compare these models, let's fix the instances for training and test sets.\n",
    "The target variable is 'casual', we split the entire column into training and test sets, according to the True/False flags in the array 'train'."
   ]
  },
  {
   "cell_type": "code",
   "execution_count": 3,
   "metadata": {},
   "outputs": [],
   "source": [
    "num_row = bikes.shape[0]\n",
    "np.random.seed(2023)\n",
    "train = np.random.choice([True, False], num_row, replace = True, p = [0.5, 0.5])\n",
    "y = bikes['casual'].values\n",
    "y_train, y_test = y[train], y[~train]"
   ]
  },
  {
   "cell_type": "code",
   "execution_count": 4,
   "metadata": {},
   "outputs": [],
   "source": [
    "selected_cols = ['season', 'yr', 'mnth', 'hr', 'holiday', 'weekday', 'workingday', 'weathersit', 'temp', 'atemp', 'hum', 'windspeed']\n",
    "x1 = bikes[selected_cols].values"
   ]
  },
  {
   "cell_type": "markdown",
   "metadata": {},
   "source": [
    "Let's first construct a very simple regression model from numerical columns as listed above.<br/>\n",
    "In order to compare the coefficients to identify important columns, it is necessary to scale all columns to interval [0, 1] using <i>MinMaxScaler</i>.<br/>\n",
    "We split the data into training and test data, then perform fit transformation on training data while transform on test data.<br/>\n",
    "WHY? <br/>\n",
    "If we will use the fit method on our test data too, we will compute a new mean and variance that is a new scale for each feature and will let our model learn about our test data too. Thus, what we want to keep as a surprise is no longer unknown to our model and we will not get a good estimate of how our model is performing on the test (unseen) data which is the ultimate goal of building a model using machine learning algorithm.<br/>\n",
    "Reasoning cited from: https://towardsdatascience.com/what-and-why-behind-fit-transform-vs-transform-in-scikit-learn-78f915cf96fe"
   ]
  },
  {
   "cell_type": "code",
   "execution_count": 5,
   "metadata": {},
   "outputs": [],
   "source": [
    "from sklearn import preprocessing\n",
    "min_max_scaler = preprocessing.MinMaxScaler()\n",
    "x1_train, x1_test = x1[train,:], x1[~train,:]\n",
    "x1_train = min_max_scaler.fit_transform(x1_train)\n",
    "x1_test = min_max_scaler.transform(x1_test)"
   ]
  },
  {
   "cell_type": "code",
   "execution_count": 6,
   "metadata": {},
   "outputs": [
    {
     "data": {
      "text/html": [
       "<div>\n",
       "<style scoped>\n",
       "    .dataframe tbody tr th:only-of-type {\n",
       "        vertical-align: middle;\n",
       "    }\n",
       "\n",
       "    .dataframe tbody tr th {\n",
       "        vertical-align: top;\n",
       "    }\n",
       "\n",
       "    .dataframe thead th {\n",
       "        text-align: right;\n",
       "    }\n",
       "</style>\n",
       "<table border=\"1\" class=\"dataframe\">\n",
       "  <thead>\n",
       "    <tr style=\"text-align: right;\">\n",
       "      <th></th>\n",
       "      <th>instant</th>\n",
       "      <th>dteday</th>\n",
       "      <th>season</th>\n",
       "      <th>yr</th>\n",
       "      <th>mnth</th>\n",
       "      <th>hr</th>\n",
       "      <th>holiday</th>\n",
       "      <th>weekday</th>\n",
       "      <th>workingday</th>\n",
       "      <th>weathersit</th>\n",
       "      <th>temp</th>\n",
       "      <th>atemp</th>\n",
       "      <th>hum</th>\n",
       "      <th>windspeed</th>\n",
       "      <th>casual</th>\n",
       "      <th>registered</th>\n",
       "      <th>cnt</th>\n",
       "    </tr>\n",
       "  </thead>\n",
       "  <tbody>\n",
       "    <tr>\n",
       "      <th>0</th>\n",
       "      <td>1</td>\n",
       "      <td>2011-01-01</td>\n",
       "      <td>1</td>\n",
       "      <td>0</td>\n",
       "      <td>1</td>\n",
       "      <td>0</td>\n",
       "      <td>0</td>\n",
       "      <td>6</td>\n",
       "      <td>0</td>\n",
       "      <td>1</td>\n",
       "      <td>0.24</td>\n",
       "      <td>0.2879</td>\n",
       "      <td>0.81</td>\n",
       "      <td>0.0000</td>\n",
       "      <td>3</td>\n",
       "      <td>13</td>\n",
       "      <td>16</td>\n",
       "    </tr>\n",
       "    <tr>\n",
       "      <th>1</th>\n",
       "      <td>2</td>\n",
       "      <td>2011-01-01</td>\n",
       "      <td>1</td>\n",
       "      <td>0</td>\n",
       "      <td>1</td>\n",
       "      <td>1</td>\n",
       "      <td>0</td>\n",
       "      <td>6</td>\n",
       "      <td>0</td>\n",
       "      <td>1</td>\n",
       "      <td>0.22</td>\n",
       "      <td>0.2727</td>\n",
       "      <td>0.80</td>\n",
       "      <td>0.0000</td>\n",
       "      <td>8</td>\n",
       "      <td>32</td>\n",
       "      <td>40</td>\n",
       "    </tr>\n",
       "    <tr>\n",
       "      <th>2</th>\n",
       "      <td>3</td>\n",
       "      <td>2011-01-01</td>\n",
       "      <td>1</td>\n",
       "      <td>0</td>\n",
       "      <td>1</td>\n",
       "      <td>2</td>\n",
       "      <td>0</td>\n",
       "      <td>6</td>\n",
       "      <td>0</td>\n",
       "      <td>1</td>\n",
       "      <td>0.22</td>\n",
       "      <td>0.2727</td>\n",
       "      <td>0.80</td>\n",
       "      <td>0.0000</td>\n",
       "      <td>5</td>\n",
       "      <td>27</td>\n",
       "      <td>32</td>\n",
       "    </tr>\n",
       "    <tr>\n",
       "      <th>3</th>\n",
       "      <td>4</td>\n",
       "      <td>2011-01-01</td>\n",
       "      <td>1</td>\n",
       "      <td>0</td>\n",
       "      <td>1</td>\n",
       "      <td>3</td>\n",
       "      <td>0</td>\n",
       "      <td>6</td>\n",
       "      <td>0</td>\n",
       "      <td>1</td>\n",
       "      <td>0.24</td>\n",
       "      <td>0.2879</td>\n",
       "      <td>0.75</td>\n",
       "      <td>0.0000</td>\n",
       "      <td>3</td>\n",
       "      <td>10</td>\n",
       "      <td>13</td>\n",
       "    </tr>\n",
       "    <tr>\n",
       "      <th>4</th>\n",
       "      <td>5</td>\n",
       "      <td>2011-01-01</td>\n",
       "      <td>1</td>\n",
       "      <td>0</td>\n",
       "      <td>1</td>\n",
       "      <td>4</td>\n",
       "      <td>0</td>\n",
       "      <td>6</td>\n",
       "      <td>0</td>\n",
       "      <td>1</td>\n",
       "      <td>0.24</td>\n",
       "      <td>0.2879</td>\n",
       "      <td>0.75</td>\n",
       "      <td>0.0000</td>\n",
       "      <td>0</td>\n",
       "      <td>1</td>\n",
       "      <td>1</td>\n",
       "    </tr>\n",
       "    <tr>\n",
       "      <th>...</th>\n",
       "      <td>...</td>\n",
       "      <td>...</td>\n",
       "      <td>...</td>\n",
       "      <td>...</td>\n",
       "      <td>...</td>\n",
       "      <td>...</td>\n",
       "      <td>...</td>\n",
       "      <td>...</td>\n",
       "      <td>...</td>\n",
       "      <td>...</td>\n",
       "      <td>...</td>\n",
       "      <td>...</td>\n",
       "      <td>...</td>\n",
       "      <td>...</td>\n",
       "      <td>...</td>\n",
       "      <td>...</td>\n",
       "      <td>...</td>\n",
       "    </tr>\n",
       "    <tr>\n",
       "      <th>17374</th>\n",
       "      <td>17375</td>\n",
       "      <td>2012-12-31</td>\n",
       "      <td>1</td>\n",
       "      <td>1</td>\n",
       "      <td>12</td>\n",
       "      <td>19</td>\n",
       "      <td>0</td>\n",
       "      <td>1</td>\n",
       "      <td>1</td>\n",
       "      <td>2</td>\n",
       "      <td>0.26</td>\n",
       "      <td>0.2576</td>\n",
       "      <td>0.60</td>\n",
       "      <td>0.1642</td>\n",
       "      <td>11</td>\n",
       "      <td>108</td>\n",
       "      <td>119</td>\n",
       "    </tr>\n",
       "    <tr>\n",
       "      <th>17375</th>\n",
       "      <td>17376</td>\n",
       "      <td>2012-12-31</td>\n",
       "      <td>1</td>\n",
       "      <td>1</td>\n",
       "      <td>12</td>\n",
       "      <td>20</td>\n",
       "      <td>0</td>\n",
       "      <td>1</td>\n",
       "      <td>1</td>\n",
       "      <td>2</td>\n",
       "      <td>0.26</td>\n",
       "      <td>0.2576</td>\n",
       "      <td>0.60</td>\n",
       "      <td>0.1642</td>\n",
       "      <td>8</td>\n",
       "      <td>81</td>\n",
       "      <td>89</td>\n",
       "    </tr>\n",
       "    <tr>\n",
       "      <th>17376</th>\n",
       "      <td>17377</td>\n",
       "      <td>2012-12-31</td>\n",
       "      <td>1</td>\n",
       "      <td>1</td>\n",
       "      <td>12</td>\n",
       "      <td>21</td>\n",
       "      <td>0</td>\n",
       "      <td>1</td>\n",
       "      <td>1</td>\n",
       "      <td>1</td>\n",
       "      <td>0.26</td>\n",
       "      <td>0.2576</td>\n",
       "      <td>0.60</td>\n",
       "      <td>0.1642</td>\n",
       "      <td>7</td>\n",
       "      <td>83</td>\n",
       "      <td>90</td>\n",
       "    </tr>\n",
       "    <tr>\n",
       "      <th>17377</th>\n",
       "      <td>17378</td>\n",
       "      <td>2012-12-31</td>\n",
       "      <td>1</td>\n",
       "      <td>1</td>\n",
       "      <td>12</td>\n",
       "      <td>22</td>\n",
       "      <td>0</td>\n",
       "      <td>1</td>\n",
       "      <td>1</td>\n",
       "      <td>1</td>\n",
       "      <td>0.26</td>\n",
       "      <td>0.2727</td>\n",
       "      <td>0.56</td>\n",
       "      <td>0.1343</td>\n",
       "      <td>13</td>\n",
       "      <td>48</td>\n",
       "      <td>61</td>\n",
       "    </tr>\n",
       "    <tr>\n",
       "      <th>17378</th>\n",
       "      <td>17379</td>\n",
       "      <td>2012-12-31</td>\n",
       "      <td>1</td>\n",
       "      <td>1</td>\n",
       "      <td>12</td>\n",
       "      <td>23</td>\n",
       "      <td>0</td>\n",
       "      <td>1</td>\n",
       "      <td>1</td>\n",
       "      <td>1</td>\n",
       "      <td>0.26</td>\n",
       "      <td>0.2727</td>\n",
       "      <td>0.65</td>\n",
       "      <td>0.1343</td>\n",
       "      <td>12</td>\n",
       "      <td>37</td>\n",
       "      <td>49</td>\n",
       "    </tr>\n",
       "  </tbody>\n",
       "</table>\n",
       "<p>17379 rows × 17 columns</p>\n",
       "</div>"
      ],
      "text/plain": [
       "       instant      dteday  season  yr  mnth  hr  holiday  weekday  \\\n",
       "0            1  2011-01-01       1   0     1   0        0        6   \n",
       "1            2  2011-01-01       1   0     1   1        0        6   \n",
       "2            3  2011-01-01       1   0     1   2        0        6   \n",
       "3            4  2011-01-01       1   0     1   3        0        6   \n",
       "4            5  2011-01-01       1   0     1   4        0        6   \n",
       "...        ...         ...     ...  ..   ...  ..      ...      ...   \n",
       "17374    17375  2012-12-31       1   1    12  19        0        1   \n",
       "17375    17376  2012-12-31       1   1    12  20        0        1   \n",
       "17376    17377  2012-12-31       1   1    12  21        0        1   \n",
       "17377    17378  2012-12-31       1   1    12  22        0        1   \n",
       "17378    17379  2012-12-31       1   1    12  23        0        1   \n",
       "\n",
       "       workingday  weathersit  temp   atemp   hum  windspeed  casual  \\\n",
       "0               0           1  0.24  0.2879  0.81     0.0000       3   \n",
       "1               0           1  0.22  0.2727  0.80     0.0000       8   \n",
       "2               0           1  0.22  0.2727  0.80     0.0000       5   \n",
       "3               0           1  0.24  0.2879  0.75     0.0000       3   \n",
       "4               0           1  0.24  0.2879  0.75     0.0000       0   \n",
       "...           ...         ...   ...     ...   ...        ...     ...   \n",
       "17374           1           2  0.26  0.2576  0.60     0.1642      11   \n",
       "17375           1           2  0.26  0.2576  0.60     0.1642       8   \n",
       "17376           1           1  0.26  0.2576  0.60     0.1642       7   \n",
       "17377           1           1  0.26  0.2727  0.56     0.1343      13   \n",
       "17378           1           1  0.26  0.2727  0.65     0.1343      12   \n",
       "\n",
       "       registered  cnt  \n",
       "0              13   16  \n",
       "1              32   40  \n",
       "2              27   32  \n",
       "3              10   13  \n",
       "4               1    1  \n",
       "...           ...  ...  \n",
       "17374         108  119  \n",
       "17375          81   89  \n",
       "17376          83   90  \n",
       "17377          48   61  \n",
       "17378          37   49  \n",
       "\n",
       "[17379 rows x 17 columns]"
      ]
     },
     "execution_count": 6,
     "metadata": {},
     "output_type": "execute_result"
    }
   ],
   "source": [
    "bikes"
   ]
  },
  {
   "cell_type": "code",
   "execution_count": 7,
   "metadata": {},
   "outputs": [
    {
     "name": "stdout",
     "output_type": "stream",
     "text": [
      "(8730, 12) (8730,)\n"
     ]
    }
   ],
   "source": [
    "print(x1_train.shape, y_train.shape)"
   ]
  },
  {
   "cell_type": "code",
   "execution_count": 8,
   "metadata": {},
   "outputs": [
    {
     "name": "stdout",
     "output_type": "stream",
     "text": [
      "\u001b[1m\n",
      "Alpha: 1.0\n",
      "\u001b[0m\n",
      "R2 score: 0.4342646390604722\n",
      "season : \t 0.0\n",
      "yr : \t 8.581629379378423\n",
      "mnth : \t 0.0\n",
      "hr : \t 24.41474201086945\n",
      "holiday : \t -0.0\n",
      "weekday : \t 0.0\n",
      "workingday : \t -30.145897343093914\n",
      "weathersit : \t -0.0\n",
      "temp : \t 85.54527921520176\n",
      "atemp : \t 0.0\n",
      "hum : \t -42.60391450078959\n",
      "windspeed : \t 0.0\n"
     ]
    }
   ],
   "source": [
    "from sklearn import linear_model\n",
    "\n",
    "lasso = linear_model.Lasso(alpha = 1.0)\n",
    "lasso.fit(x1_train, y_train)\n",
    "print('\\033[1m')\n",
    "print('Alpha:', 1.0)\n",
    "print('\\033[0m')\n",
    "print('R2 score:', lasso.score(x1_test, y_test))\n",
    "for i in range(len(selected_cols)):\n",
    "    print(selected_cols[i],':', '\\t', lasso.coef_[i])"
   ]
  },
  {
   "cell_type": "markdown",
   "metadata": {},
   "source": [
    "The $R^2$ score is 0.42, and there are already 5 columns used for this model (columns with non-zero coefficients).<br/>\n",
    "Let's now decrease alpha to see if we can obtain a model with $R^2$ above 0.5."
   ]
  },
  {
   "cell_type": "code",
   "execution_count": 9,
   "metadata": {},
   "outputs": [
    {
     "name": "stdout",
     "output_type": "stream",
     "text": [
      "\u001b[1m\n",
      "Alpha: 1.0\n",
      "\u001b[0m\n",
      "R2 score: 0.4342646390604722\n",
      "season : \t 0.0\n",
      "yr : \t 8.581629379378423\n",
      "mnth : \t 0.0\n",
      "hr : \t 24.41474201086945\n",
      "holiday : \t -0.0\n",
      "weekday : \t 0.0\n",
      "workingday : \t -30.145897343093914\n",
      "weathersit : \t -0.0\n",
      "temp : \t 85.54527921520176\n",
      "atemp : \t 0.0\n",
      "hum : \t -42.60391450078959\n",
      "windspeed : \t 0.0\n",
      "\n",
      "\u001b[1m\n",
      "Alpha: 0.5\n",
      "\u001b[0m\n",
      "R2 score: 0.4508282296796309\n",
      "season : \t 1.8439300928457594\n",
      "yr : \t 10.082165162257677\n",
      "mnth : \t 0.0\n",
      "hr : \t 27.17099479383702\n",
      "holiday : \t -0.0\n",
      "weekday : \t 3.285306980632803\n",
      "workingday : \t -32.62961425378951\n",
      "weathersit : \t 0.0\n",
      "temp : \t 96.4400990913573\n",
      "atemp : \t 0.0\n",
      "hum : \t -53.88769876898574\n",
      "windspeed : \t 0.0\n",
      "\n",
      "\u001b[1m\n",
      "Alpha: 0.2\n",
      "\u001b[0m\n",
      "R2 score: 0.4552593829273437\n",
      "season : \t 3.3661668768844746\n",
      "yr : \t 10.980604231527831\n",
      "mnth : \t 0.0\n",
      "hr : \t 28.749628731321938\n",
      "holiday : \t -4.190164643691689\n",
      "weekday : \t 5.708628388492799\n",
      "workingday : \t -34.501646978456904\n",
      "weathersit : \t 0.02408450789628055\n",
      "temp : \t 65.03759131381297\n",
      "atemp : \t 42.83185401081512\n",
      "hum : \t -61.46577971888149\n",
      "windspeed : \t 0.0\n",
      "\n",
      "\u001b[1m\n",
      "Alpha: 0.1\n",
      "\u001b[0m\n",
      "R2 score: 0.455550961505784\n",
      "season : \t 4.02119547849274\n",
      "yr : \t 11.223163452475957\n",
      "mnth : \t 0.0\n",
      "hr : \t 28.881591533526908\n",
      "holiday : \t -7.9341108387204695\n",
      "weekday : \t 6.359214630714483\n",
      "workingday : \t -35.425758137094626\n",
      "weathersit : \t 4.466403579412133\n",
      "temp : \t 48.524005149182\n",
      "atemp : \t 64.34507300841459\n",
      "hum : \t -66.2844798806063\n",
      "windspeed : \t 0.1947667897861122\n",
      "\n"
     ]
    }
   ],
   "source": [
    "for alpha in [1.0, 0.5, 0.2, 0.1]:\n",
    "    lasso = linear_model.Lasso(alpha = alpha)\n",
    "    lasso.fit(x1_train, y_train)\n",
    "    print('\\033[1m')\n",
    "    print('Alpha:', alpha)\n",
    "    print('\\033[0m')\n",
    "    print('R2 score:', lasso.score(x1_test, y_test))\n",
    "    for i in range(len(selected_cols)):\n",
    "        print(selected_cols[i],':', '\\t', lasso.coef_[i])\n",
    "    print()"
   ]
  },
  {
   "cell_type": "markdown",
   "metadata": {},
   "source": [
    "Unfortunately, no.<br/>\n",
    "Now let's consider the column 'weekday'. Although it is a numerical column, the numbers does not have a quantitative meaning, they are just indicators. Such columns are called **Nominal** columns, i.e., for each value x in the column 'weekday', we create a column called 'weekday=x', a record will get a value of 1 on this column if its orginal value is x, otherwise 0.<br/>\n",
    "pandas conveniently provides a function 'get_dummies' for this purpose.<br/>\n",
    "Both columns 'season' and 'weekday' are nominal columns."
   ]
  },
  {
   "cell_type": "code",
   "execution_count": 10,
   "metadata": {},
   "outputs": [],
   "source": [
    "seasons = pd.get_dummies(bikes['season'], prefix = 'season_=')\n",
    "weekdays = pd.get_dummies(bikes['weekday'], prefix = 'weekday_=')\n",
    "\n",
    "bikes = pd.concat([bikes, seasons, weekdays], axis = 1)"
   ]
  },
  {
   "cell_type": "markdown",
   "metadata": {},
   "source": [
    "Another interesting column is column 'weathersit'. The description tells us these four situations are very different.\n",
    "1. Clear, Few clouds, Partly cloudy, Partly cloudy\n",
    "2. Mist + Cloudy, Mist + Broken clouds, Mist + Few clouds, Mist\n",
    "3. Light Snow, Light Rain + Thunderstorm + Scattered clouds, Light Rain + Scattered clouds\n",
    "4. Heavy Rain + Ice Pallets + Thunderstorm + Mist, Snow + Fog\n",
    "\n",
    "First, Situation 1 is mutually exclusive from the rest. Second, there is a degree of severity associated from situation 2 to 4, meaning if situation 3 happens, the weather has gone passed situation 2. This is so-called **ordinal** columns.<br/>\n",
    "For ordinal columns, we should turn on lower grade indicator automatically if the value is higher. For example, indicator for weathersit2 should be 1 all records with weathersit 2, 3, 4.<br/>\n",
    "Third, there are very few records for weathersit = 4, that we do not need to create one column just for weathersit 4."
   ]
  },
  {
   "cell_type": "code",
   "execution_count": 11,
   "metadata": {},
   "outputs": [],
   "source": [
    "bikes['weathersit_=_1'] = 1 * (bikes['weathersit'] == 1)\n",
    "bikes['weathersit_>=_2'] = 1 * (bikes['weathersit'] >= 2)\n",
    "bikes['weathersit_>=_3'] = 1 * (bikes['weathersit'] >= 3)"
   ]
  },
  {
   "cell_type": "code",
   "execution_count": 12,
   "metadata": {},
   "outputs": [],
   "source": [
    "selected_cols = ['yr', 'mnth', 'hr', 'holiday', 'workingday', 'temp', 'atemp', 'hum', 'windspeed', 'season_=_1', 'season_=_2', 'season_=_3', 'season_=_4', 'weekday_=_0', 'weekday_=_1', 'weekday_=_2', 'weekday_=_3', 'weekday_=_4', 'weekday_=_5', 'weekday_=_6', 'weathersit_=_1', 'weathersit_>=_2', 'weathersit_>=_3']\n",
    "x2 = bikes[selected_cols].values"
   ]
  },
  {
   "cell_type": "code",
   "execution_count": 13,
   "metadata": {},
   "outputs": [],
   "source": [
    "x2_train, x2_test = x2[train,:], x2[~train,:]\n",
    "x2_train = min_max_scaler.fit_transform(x2_train)\n",
    "x2_test = min_max_scaler.transform(x2_test)"
   ]
  },
  {
   "cell_type": "code",
   "execution_count": 14,
   "metadata": {},
   "outputs": [
    {
     "name": "stdout",
     "output_type": "stream",
     "text": [
      "\u001b[1m\n",
      "Alpha: 1.0\n",
      "\u001b[0m\n",
      "R2 score: 0.43903808276681966\n",
      "yr \t 8.736355763279008\n",
      "mnth \t 0.0\n",
      "hr \t 24.835299809541162\n",
      "holiday \t -0.0\n",
      "workingday \t -28.60512215608742\n",
      "temp \t 77.37609347614482\n",
      "atemp \t 0.0\n",
      "hum \t -44.37345194109421\n",
      "windspeed \t 0.0\n",
      "season_=_1 \t -5.506110595826075\n",
      "season_=_2 \t 2.74667651848775\n",
      "season_=_3 \t -0.0\n",
      "season_=_4 \t 0.0\n",
      "weekday_=_0 \t 0.0\n",
      "weekday_=_1 \t -0.0\n",
      "weekday_=_2 \t -0.0\n",
      "weekday_=_3 \t -0.0\n",
      "weekday_=_4 \t -0.0\n",
      "weekday_=_5 \t 0.0\n",
      "weekday_=_6 \t 3.337483460978624\n",
      "weathersit_=_1 \t 0.0\n",
      "weathersit_>=_2 \t -0.0\n",
      "weathersit_>=_3 \t -0.0\n"
     ]
    }
   ],
   "source": [
    "lasso = linear_model.Lasso(alpha = 1.0)\n",
    "lasso.fit(x2_train, y_train)\n",
    "print('\\033[1m')\n",
    "print('Alpha:', 1.0)\n",
    "print('\\033[0m')\n",
    "print('R2 score:', lasso.score(x2_test, y_test))\n",
    "for i in range(len(selected_cols)):\n",
    "    print(selected_cols[i], '\\t', lasso.coef_[i])"
   ]
  },
  {
   "cell_type": "markdown",
   "metadata": {},
   "source": [
    "However, these indicator columns are not as significant as columns, 'yr', 'hr', 'workingday', 'temp' and 'hum'. Even with these five columns only, the performace is about the same."
   ]
  },
  {
   "cell_type": "code",
   "execution_count": 15,
   "metadata": {},
   "outputs": [
    {
     "name": "stdout",
     "output_type": "stream",
     "text": [
      "\u001b[1m\n",
      "Alpha: 1.0\n",
      "\u001b[0m\n",
      "R2 score: 0.434264526169996\n",
      "yr \t 8.581593627172348\n",
      "hr \t 24.414567146757534\n",
      "workingday \t -30.14586918853817\n",
      "temp \t 85.54522576771056\n",
      "hum \t -42.60399954677521\n"
     ]
    }
   ],
   "source": [
    "selected_cols = ['yr', 'hr', 'workingday', 'temp', 'hum']\n",
    "x3 = bikes[selected_cols].values\n",
    "x3_train, x3_test = x3[train,:], x3[~train,:]\n",
    "x3_train = min_max_scaler.fit_transform(x3_train)\n",
    "x3_test = min_max_scaler.transform(x3_test)\n",
    "lasso = linear_model.Lasso(alpha = 1.0)\n",
    "lasso.fit(x3_train, y_train)\n",
    "print('\\033[1m')\n",
    "print('Alpha:', 1.0)\n",
    "print('\\033[0m')\n",
    "print('R2 score:', lasso.score(x3_test, y_test))\n",
    "for i in range(len(selected_cols)):\n",
    "    print(selected_cols[i], '\\t', lasso.coef_[i])"
   ]
  },
  {
   "cell_type": "markdown",
   "metadata": {},
   "source": [
    "Let's now think if there is a better way to use column 'dteday' since dates are not numbers. We first convert it to numbers using data structure datetime with functions strptime and strftime.<br/>\n",
    "Let's now create a column\n",
    "The for loop below calculates the number of days since 2011-1-1 with hours being the fractional part, so it is continuous from 2011-12-31 to 2012-1-1."
   ]
  },
  {
   "cell_type": "code",
   "execution_count": 16,
   "metadata": {},
   "outputs": [
    {
     "name": "stdout",
     "output_type": "stream",
     "text": [
      "\u001b[1m\n",
      "Alpha: 1.0\n",
      "\u001b[0m\n",
      "R2 score: 0.43426427545817103\n",
      "days \t 0.0\n",
      "yr \t 8.5815674779534\n",
      "mnth \t 0.0\n",
      "hr \t 24.414343455414233\n",
      "holiday \t -0.0\n",
      "workingday \t -30.145747592529897\n",
      "temp \t 85.54505237453702\n",
      "atemp \t 0.0\n",
      "hum \t -42.604116582846615\n",
      "windspeed \t 0.0\n"
     ]
    }
   ],
   "source": [
    "from datetime import datetime\n",
    "days = np.zeros((num_row))\n",
    "for i in range(num_row):\n",
    "    dtime = bikes.iloc[i]['dteday']\n",
    "    dtime = datetime.strptime(dtime, '%Y-%m-%d')\n",
    "    days[i] = int(datetime.strftime(dtime, '%j')) - 1 + bikes.iloc[i]['hr'] / 24 + 365 * bikes.iloc[i]['yr']\n",
    "\n",
    "selected_cols = ['days', 'yr', 'mnth', 'hr', 'holiday', 'workingday', 'temp', 'atemp', 'hum', 'windspeed']\n",
    "x4 = np.hstack((days.reshape(-1,1), bikes[selected_cols[1:]].values))\n",
    "x4_train, x4_test = x4[train,:], x4[~train,:]\n",
    "x4_train = min_max_scaler.fit_transform(x4_train)\n",
    "x4_test = min_max_scaler.transform(x4_test)\n",
    "lasso = linear_model.Lasso(alpha = 1.0)\n",
    "lasso.fit(x4_train, y_train)\n",
    "print('\\033[1m')\n",
    "print('Alpha:', 1.0)\n",
    "print('\\033[0m')\n",
    "print('R2 score:', lasso.score(x4_test, y_test))\n",
    "for i in range(len(selected_cols)):\n",
    "    print(selected_cols[i], '\\t', lasso.coef_[i])"
   ]
  },
  {
   "cell_type": "code",
   "execution_count": 17,
   "metadata": {},
   "outputs": [
    {
     "name": "stdout",
     "output_type": "stream",
     "text": [
      "Peak hour : 14\n",
      "\u001b[1m\n",
      "Alpha: 1.0\n",
      "\u001b[0m\n",
      "R2 score: 0.527925880244642\n",
      "temp \t 72.98626378932457\n",
      "hum \t -11.548393382033316\n",
      "workingday \t -29.93686688322216\n",
      "yr \t 9.76011298947357\n",
      "hr_diff \t -67.50263259712676\n"
     ]
    }
   ],
   "source": [
    "hr_diff = np.zeros((num_row), dtype = int)\n",
    "hour_info = [0 for i in range(24)]\n",
    "for i in range(num_row):\n",
    "    hour_info[bikes.iloc[i]['hr']] = hour_info[bikes.iloc[i]['hr']] + bikes.iloc[i]['casual']\n",
    "    \n",
    "peak_hr = hour_info.index(max(hour_info))\n",
    "print(\"Peak hour : {}\".format(peak_hr))\n",
    "for i in range(num_row): \n",
    "    # calculate the difference in hours from the peak hour\n",
    "    differences_in_hr = min(abs((bikes.iloc[i]['hr']- peak_hr)), abs((bikes.iloc[i]['hr']+24 - peak_hr)))\n",
    "    hr_diff[i] = differences_in_hr\n",
    "\n",
    "df = pd.DataFrame(hr_diff, columns = ['hr_diff'])\n",
    "bikes = pd.concat((bikes, df), axis =1)\n",
    "\n",
    "# build x5 as the cell above  \n",
    "selected_cols = ['temp', 'hum', 'workingday', 'yr', 'hr_diff']\n",
    "x5= bikes[selected_cols].values\n",
    "x5_train, x5_test = x5[train,:], x5[~train,:]\n",
    "x5_train = min_max_scaler.fit_transform(x5_train)\n",
    "x5_test = min_max_scaler.transform(x5_test)\n",
    "\n",
    "# build a regression model with x5_train after normalization\n",
    "lasso = linear_model.Lasso(alpha = 1.0)\n",
    "\n",
    "lasso.fit(x5_train, y_train)\n",
    "print('\\033[1m')\n",
    "print('Alpha:', 1.0)\n",
    "print('\\033[0m')\n",
    "print('R2 score:', lasso.score(x5_test, y_test))\n",
    "for i in range(len(selected_cols)):\n",
    "    print(selected_cols[i], '\\t', lasso.coef_[i])\n"
   ]
  },
  {
   "cell_type": "markdown",
   "metadata": {},
   "source": [
    "### Multi-class Classification using Logistic Regression"
   ]
  },
  {
   "cell_type": "code",
   "execution_count": 18,
   "metadata": {},
   "outputs": [],
   "source": [
    "import numpy as np\n",
    "import pandas as pd\n",
    "import warnings\n",
    "warnings.filterwarnings('ignore')\n",
    "\n",
    "bikes = pd.read_csv('bike_sharing.csv')\n",
    "num_row = bikes.shape[0]\n",
    "\n",
    "y = bikes['casual'].values\n",
    "y = np.array([1 if i < 7 else 2 if i < 34 else 3 for i in y])\n",
    "\n",
    "np.random.seed(2019)\n",
    "selection = np.random.choice(['train', 'test', 'rest'], num_row, replace = True, p = [0.01, 0.09, 0.9])\n",
    "y_train, y_test = y[selection == 'train'], y[selection == 'test']"
   ]
  },
  {
   "cell_type": "code",
   "execution_count": 19,
   "metadata": {},
   "outputs": [
    {
     "name": "stdout",
     "output_type": "stream",
     "text": [
      "Accuracy is : 0.6360698125404007\n",
      "\n",
      "\n",
      "Confusion matrix:\n"
     ]
    },
    {
     "data": {
      "image/png": "[encoded data removed]",
      "text/plain": [
       "<Figure size 1000x600 with 2 Axes>"
      ]
     },
     "metadata": {},
     "output_type": "display_data"
    },
    {
     "name": "stdout",
     "output_type": "stream",
     "text": [
      "\n",
      "\n",
      "AUC for each class:\n",
      "AUC for Class  1 :  0.8766017191977077\n",
      "AUC for Class  2 :  0.5241089630398703\n",
      "AUC for Class  3 :  0.9069687398769032\n",
      "\n",
      "\n",
      "Figure:\n"
     ]
    },
    {
     "data": {
      "image/png": "[encoded data removed]",
      "text/plain": [
       "<Figure size 1000x1000 with 1 Axes>"
      ]
     },
     "metadata": {},
     "output_type": "display_data"
    }
   ],
   "source": [
    "from sklearn import preprocessing, linear_model, svm\n",
    "import matplotlib.pyplot as plt\n",
    "from sklearn.metrics import accuracy_score, confusion_matrix, roc_curve, auc\n",
    "from sklearn.linear_model import LogisticRegression\n",
    "from sklearn.multiclass import OneVsRestClassifier\n",
    "from sklearn.preprocessing import label_binarize\n",
    "import seaborn as sns\n",
    "\n",
    "selected_cols = ['yr', 'mnth', 'hr', 'holiday', 'workingday', 'temp', 'atemp', 'hum', 'windspeed']\n",
    "x = bikes[selected_cols].values\n",
    "x_train, x_test = x[selection == 'train',:], x[selection == 'test',:]\n",
    "\n",
    "multi_ovr_estimator = linear_model.LogisticRegression(solver='lbfgs',multi_class='ovr')\n",
    "multi_ovr_estimator.fit(x_train, y_train)\n",
    "y_ovr_predict = multi_ovr_estimator.predict(x_test)\n",
    "print(\"Accuracy is : {}\".format(accuracy_score(y_test, y_ovr_predict)))\n",
    "\n",
    "print(\"\\n\\nConfusion matrix:\")\n",
    "cm = confusion_matrix(y_test, y_ovr_predict)\n",
    "plt.figure(figsize=(10,6))\n",
    "fx=sns.heatmap(cm, annot=True, fmt=\".2f\",cmap=\"GnBu\")\n",
    "fx.set_title('Confusion Matrix \\n');\n",
    "fx.set_xlabel('\\n Predicted Values\\n')\n",
    "fx.set_ylabel('Actual Values\\n');\n",
    "label = multi_ovr_estimator.classes_\n",
    "fx.xaxis.set_ticklabels(label)\n",
    "fx.yaxis.set_ticklabels(label)\n",
    "plt.show()\n",
    "\n",
    "y_for_roc = label_binarize(y, classes=[1,2,3])\n",
    "n_classes = y_for_roc.shape[1]\n",
    "y_roc_train, y_roc_test = y_for_roc[selection == 'train'], y_for_roc[selection == 'test']\n",
    "classifier = OneVsRestClassifier(svm.SVC(kernel='linear', probability=True, random_state = 0))\n",
    "y_score = classifier.fit(x_train, y_roc_train).decision_function(x_test)\n",
    "\n",
    "print(\"\\n\\nAUC for each class:\")\n",
    "fpr = dict()\n",
    "tpr = dict()\n",
    "roc_auc = dict()\n",
    "for i in range(3):\n",
    "    fpr[i], tpr[i], _ = roc_curve(y_roc_test[:, i], y_score[:,i])\n",
    "    roc_auc[i] = auc(fpr[i], tpr[i])\n",
    "    print (\"AUC for Class \",i+1,\": \", roc_auc[i])\n",
    "\n",
    "print(\"\\n\\nFigure:\")    \n",
    "plt.figure(figsize = (10, 10))    \n",
    "plt.plot([0, 1], [0, 1], linestyle='--')\n",
    "\n",
    "colors = (['aqua', 'crimson', 'lime'])\n",
    "for i, color in zip(range(n_classes), colors):\n",
    "    plt.plot(fpr[i], tpr[i], color=colors[i],\n",
    "             label='ROC curve of class {0} (Area = {1:0.2f})'\n",
    "             ''.format(i+1, roc_auc[i]))    \n",
    "\n",
    "plt.xlabel('False positive rate')\n",
    "plt.ylabel('True Positive rate')\n",
    "plt.title('ROC Curve')\n",
    "plt.legend(loc=\"lower right\")\n",
    "plt.show()"
   ]
  },
  {
   "cell_type": "code",
   "execution_count": 20,
   "metadata": {},
   "outputs": [
    {
     "name": "stdout",
     "output_type": "stream",
     "text": [
      "Accuracy of logistic regression classifier with C:0.001 on test set: 0.5895281189\n",
      "Accuracy of logistic regression classifier with C:0.01 on test set: 0.5817711700\n",
      "Accuracy of logistic regression classifier with C:0.1 on test set: 0.6186166774\n",
      "Accuracy of logistic regression classifier with C:1 on test set: 0.6502908856\n",
      "Accuracy of logistic regression classifier with C:10 on test set: 0.6418875242\n",
      "Accuracy of logistic regression classifier with C:100 on test set: 0.6347769877\n",
      "Accuracy of logistic regression classifier with C:1000 on test set: 0.6425339367\n",
      "Accuracy of logistic regression classifier with C:10000 on test set: 0.6399482870\n",
      "Accuracy of logistic regression classifier with C:100000 on test set: 0.6380090498\n",
      "Accuracy of logistic regression classifier with C:1000000 on test set: 0.6418875242\n"
     ]
    },
    {
     "data": {
      "image/png": "[encoded data removed]",
      "text/plain": [
       "<Figure size 600x600 with 1 Axes>"
      ]
     },
     "metadata": {},
     "output_type": "display_data"
    }
   ],
   "source": [
    "import matplotlib.pyplot as plt\n",
    "from sklearn.metrics import accuracy_score, log_loss\n",
    "from sklearn.linear_model import LogisticRegression\n",
    "\n",
    "import math\n",
    "num_C = 10\n",
    "C = [1.0] * num_C\n",
    "for i in range(num_C):\n",
    "    C[i] = pow(10, i-3)\n",
    "logit = [None] * num_C\n",
    "inv_log_likelihood_train = [0.0] * num_C\n",
    "inv_log_likelihood_test = [0.0] * num_C\n",
    "\n",
    "for i in range(num_C):\n",
    "    logreg_multi = LogisticRegression(C=C[i], solver='lbfgs', multi_class='multinomial')\n",
    "    logreg_multi.fit(x_train, y_train)\n",
    "    print('Accuracy of logistic regression classifier with C:{} on test set: {:.10f}'.format(C[i],logreg_multi.score(x_test, y_test)))\n",
    "    \n",
    "    y_train_predict = logreg_multi.predict(x_train)\n",
    "    y_train_predict_proba = logreg_multi.predict_proba(x_train)\n",
    "    \n",
    "    y_test_predict = logreg_multi.predict(x_test)\n",
    "    y_test_predict_proba = logreg_multi.predict_proba(x_test)\n",
    "    \n",
    "    inv_log_likelihood_train[i] = log_loss(y_train, y_train_predict_proba) \n",
    "    inv_log_likelihood_test[i] = log_loss(y_test, y_test_predict_proba)\n",
    "    \n",
    "plt.figure(figsize = (6, 6))\n",
    "plt.xscale('log')\n",
    "plt.plot(C, inv_log_likelihood_train, 'bo-', C, inv_log_likelihood_test, 'ro-')\n",
    "plt.xlabel('Regularization parameter C')\n",
    "plt.ylabel('Accuracy')\n",
    "plt.show()"
   ]
  },
  {
   "cell_type": "code",
   "execution_count": null,
   "metadata": {},
   "outputs": [],
   "source": []
  }
 ],
 "metadata": {
  "kernelspec": {
   "display_name": "Python 3 (ipykernel)",
   "language": "python",
   "name": "python3"
  },
  "language_info": {
   "codemirror_mode": {
    "name": "ipython",
    "version": 3
   },
   "file_extension": ".py",
   "mimetype": "text/x-python",
   "name": "python",
   "nbconvert_exporter": "python",
   "pygments_lexer": "ipython3",
   "version": "3.9.16"
  }
 },
 "nbformat": 4,
 "nbformat_minor": 2
}
